{
 "cells": [
  {
   "cell_type": "code",
   "execution_count": 5,
   "metadata": {},
   "outputs": [],
   "source": [
    "import pandas as pd\n",
    "import dask.dataframe as dd\n",
    "from gensim.models import Word2Vec\n",
    "docs = dd.read_parquet(\"../output.pq/\")"
   ]
  },
  {
   "cell_type": "code",
   "execution_count": 8,
   "metadata": {},
   "outputs": [],
   "source": [
    "texts = docs['News_Tokens'].compute()"
   ]
  },
  {
   "cell_type": "code",
   "execution_count": null,
   "metadata": {},
   "outputs": [
    {
     "name": "stderr",
     "output_type": "stream",
     "text": [
      "Exception in thread Thread-62 (_worker_loop):\n",
      "Traceback (most recent call last):\n",
      "  File \"C:\\Users\\vadim\\scoop\\apps\\python\\3.12.6\\Lib\\threading.py\", line 1075, in _bootstrap_inner\n",
      "Exception in thread Thread-61 (_worker_loop):\n",
      "Traceback (most recent call last):\n",
      "  File \"C:\\Users\\vadim\\scoop\\apps\\python\\3.12.6\\Lib\\threading.py\", line 1075, in _bootstrap_inner\n",
      "Exception in thread Thread-60 (_worker_loop):\n",
      "Traceback (most recent call last):\n",
      "  File \"C:\\Users\\vadim\\scoop\\apps\\python\\3.12.6\\Lib\\threading.py\", line 1075, in _bootstrap_inner\n",
      "    self.run()\n",
      "  File \"c:\\Users\\vadim\\Desktop\\6 sem\\Курсовая\\.venv\\Lib\\site-packages\\ipykernel\\ipkernel.py\", line 766, in run_closure\n",
      "    self.run()\n",
      "  File \"c:\\Users\\vadim\\Desktop\\6 sem\\Курсовая\\.venv\\Lib\\site-packages\\ipykernel\\ipkernel.py\", line 766, in run_closure\n",
      "    self.run()\n",
      "  File \"c:\\Users\\vadim\\Desktop\\6 sem\\Курсовая\\.venv\\Lib\\site-packages\\ipykernel\\ipkernel.py\", line 766, in run_closure\n",
      "    _threading_Thread_run(self)\n",
      "  File \"C:\\Users\\vadim\\scoop\\apps\\python\\3.12.6\\Lib\\threading.py\", line 1012, in run\n",
      "    _threading_Thread_run(self)\n",
      "  File \"C:\\Users\\vadim\\scoop\\apps\\python\\3.12.6\\Lib\\threading.py\", line 1012, in run\n",
      "    self._target(*self._args, **self._kwargs)\n",
      "  File \"c:\\Users\\vadim\\Desktop\\6 sem\\Курсовая\\.venv\\Lib\\site-packages\\gensim\\models\\word2vec.py\", line 1166, in _worker_loop\n",
      "    self._target(*self._args, **self._kwargs)\n",
      "  File \"c:\\Users\\vadim\\Desktop\\6 sem\\Курсовая\\.venv\\Lib\\site-packages\\gensim\\models\\word2vec.py\", line 1166, in _worker_loop\n",
      "    _threading_Thread_run(self)\n",
      "  File \"C:\\Users\\vadim\\scoop\\apps\\python\\3.12.6\\Lib\\threading.py\", line 1012, in run\n",
      "    tally, raw_tally = self._do_train_job(data_iterable, alpha, thread_private_mem)\n",
      "                       ^^^^^^^^^^^^^^^^^^^^^^^^^^^^^^^^^^^^^^^^^^^^^^^^^^^^^^^^^^^^\n",
      "  File \"c:\\Users\\vadim\\Desktop\\6 sem\\Курсовая\\.venv\\Lib\\site-packages\\gensim\\models\\word2vec.py\", line 957, in _do_train_job\n",
      "    self._target(*self._args, **self._kwargs)\n",
      "  File \"c:\\Users\\vadim\\Desktop\\6 sem\\Курсовая\\.venv\\Lib\\site-packages\\gensim\\models\\word2vec.py\", line 1166, in _worker_loop\n",
      "    tally, raw_tally = self._do_train_job(data_iterable, alpha, thread_private_mem)\n",
      "                       ^^^^^^^^^^^^^^^^^^^^^^^^^^^^^^^^^^^^^^^^^^^^^^^^^^^^^^^^^^^^\n",
      "  File \"c:\\Users\\vadim\\Desktop\\6 sem\\Курсовая\\.venv\\Lib\\site-packages\\gensim\\models\\word2vec.py\", line 957, in _do_train_job\n",
      "    tally += train_batch_cbow(self, sentences, alpha, work, neu1, self.compute_loss)\n",
      "             ^^^^^^^^^^^^^^^^^^^^^^^    tally, raw_tally = self._do_train_job(data_iterable, alpha, thread_private_mem)\n",
      "                       ^^^^^^^^^^^^^^^^^^^^^^^^^^^^^^^^^^^^^^^^^^^^^^^^^^^^^^^^^^^^\n",
      "  File \"c:\\Users\\vadim\\Desktop\\6 sem\\Курсовая\\.venv\\Lib\\site-packages\\gensim\\models\\word2vec.py\", line 957, in _do_train_job\n",
      "^^^^^^^^^^^^^^^^^^^^^^^^^^^^^^^^^^^^^^^^^^^^^^^^\n",
      "  File \"gensim\\models\\word2vec_inner.pyx\", line 638, in gensim.models.word2vec_inner.train_batch_cbow\n",
      "    tally += train_batch_cbow(self, sentences, alpha, work, neu1, self.compute_loss)\n",
      "             ^^^^^^^^^^^^^^^^^^^^^^^^^^^^^^^^^^^^^^^^^^^^^^^^^^^^^^^^^^^^^^^^^^^^^^^\n",
      "  File \"gensim\\models\\word2vec_inner.pyx\", line 638, in gensim.models.word2vec_inner.train_batch_cbow\n",
      "    tally += train_batch_cbow(self, sentences, alpha, work, neu1, self.compute_loss)\n",
      "             ^^^^^^^^^^^^^^^^^^^^^^^^^^^^^^^^^^^^^^^^^^^^^^^^^^^^^^^^^^^^^^^^^^^^^^^\n",
      "  File \"gensim\\models\\word2vec_inner.pyx\", line 638, in gensim.models.word2vec_inner.train_batch_cbow\n",
      "ValueError: The truth value of an array with more than one element is ambiguous. Use a.any() or a.all()\n",
      "ValueError: The truth value of an array with more than one element is ambiguous. Use a.any() or a.all()\n",
      "ValueError: The truth value of an array with more than one element is ambiguous. Use a.any() or a.all()\n"
     ]
    }
   ],
   "source": [
    "model = Word2Vec(sentences=texts, vector_size=100, window=5,min_count=1, sg=0)\n",
    "model.save('word2vec_sent_5_sgu.model')"
   ]
  }
 ],
 "metadata": {
  "kernelspec": {
   "display_name": ".venv",
   "language": "python",
   "name": "python3"
  },
  "language_info": {
   "codemirror_mode": {
    "name": "ipython",
    "version": 3
   },
   "file_extension": ".py",
   "mimetype": "text/x-python",
   "name": "python",
   "nbconvert_exporter": "python",
   "pygments_lexer": "ipython3",
   "version": "3.12.6"
  }
 },
 "nbformat": 4,
 "nbformat_minor": 2
}
