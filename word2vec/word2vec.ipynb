{
 "cells": [
  {
   "cell_type": "code",
   "execution_count": 38,
   "metadata": {},
   "outputs": [],
   "source": [
    "import pandas as pd\n",
    "import dask.dataframe as dd\n",
    "import dask.bag as db\n",
    "from gensim.models import Word2Vec\n",
    "docs = dd.read_parquet(\"output.pq/\")"
   ]
  },
  {
   "cell_type": "code",
   "execution_count": 39,
   "metadata": {},
   "outputs": [],
   "source": [
    "texts = docs['News_Tokens'].compute()\n",
    "bag = db.from_sequence(texts)\n",
    "sentences: list[str] = bag.flatten().map(lambda x: x.split()).compute()"
   ]
  },
  {
   "cell_type": "code",
   "execution_count": 40,
   "metadata": {},
   "outputs": [
    {
     "name": "stdout",
     "output_type": "stream",
     "text": [
      "423175\n"
     ]
    }
   ],
   "source": [
    "print(len(sentences))"
   ]
  },
  {
   "cell_type": "code",
   "execution_count": 33,
   "metadata": {},
   "outputs": [],
   "source": [
    "model = Word2Vec(sentences=sentences, vector_size=100, window=5,min_count=1, sg=0)\n",
    "model.save('word2vec/word2vec_sent_5_sgu.model')"
   ]
  },
  {
   "cell_type": "markdown",
   "metadata": {},
   "source": [
    "# Построение тезауруса"
   ]
  },
  {
   "cell_type": "code",
   "execution_count": 7,
   "metadata": {},
   "outputs": [],
   "source": [
    "import pandas as pd\n",
    "import dask.dataframe as dd\n",
    "import dask.bag as db\n",
    "from gensim.models import Word2Vec\n",
    "docs = dd.read_parquet(\"output.pq/\")"
   ]
  },
  {
   "cell_type": "code",
   "execution_count": 34,
   "metadata": {},
   "outputs": [],
   "source": [
    "model = Word2Vec.load(\"word2vec/word2vec_sent_5_sgu.model\")\n",
    "texts = docs['News_Tokens'].compute()\n",
    "bag = db.from_sequence(texts)\n",
    "sentences = bag.flatten()"
   ]
  },
  {
   "cell_type": "code",
   "execution_count": 35,
   "metadata": {},
   "outputs": [],
   "source": [
    "words = sentences.map(lambda x: x.split()).flatten().distinct().compute()\n"
   ]
  },
  {
   "cell_type": "code",
   "execution_count": 19,
   "metadata": {},
   "outputs": [
    {
     "name": "stdout",
     "output_type": "stream",
     "text": [
      "45204\n"
     ]
    }
   ],
   "source": [
    "print(len(words))"
   ]
  },
  {
   "cell_type": "code",
   "execution_count": null,
   "metadata": {},
   "outputs": [],
   "source": [
    "results = []\n",
    "threshold = 0.7\n",
    "for word in words:\n",
    "    try:\n",
    "        # Получаем 10 ближайших слов\n",
    "        similar_words = model.wv.most_similar(word, topn=10)\n",
    "        filtered_words = [(w, sim) for w, sim in similar_words if sim >= threshold]\n",
    "        results.append([word, filtered_words])\n",
    "    except KeyError:\n",
    "        # Если слово не в модели, пропускаем его\n",
    "        print(f\"Слово '{word}' не найдено в модели.\")\n",
    "\n",
    "df_results = pd.DataFrame(results, columns=[\"Word\", \"Most_Similar_Word\"])\n",
    "\n",
    "df_results.to_csv(\"word2vec/similar_words_sent_5.csv\", index=False)"
   ]
  }
 ],
 "metadata": {
  "kernelspec": {
   "display_name": "Python 3",
   "language": "python",
   "name": "python3"
  },
  "language_info": {
   "codemirror_mode": {
    "name": "ipython",
    "version": 3
   },
   "file_extension": ".py",
   "mimetype": "text/x-python",
   "name": "python",
   "nbconvert_exporter": "python",
   "pygments_lexer": "ipython3",
   "version": "3.12.3"
  }
 },
 "nbformat": 4,
 "nbformat_minor": 2
}
