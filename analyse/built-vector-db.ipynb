{
 "cells": [
  {
   "cell_type": "code",
   "execution_count": 30,
   "metadata": {},
   "outputs": [],
   "source": [
    "import pandas as pd\n",
    "from gensim.models import KeyedVectors\n",
    "\n",
    "# Пути к файлам и соответствующие названия колонок\n",
    "file_paths = {\n",
    "    'glove': '../glove_python/glove.kv',\n",
    "    'word2vec': '../word2vec/word2vec.kv'\n",
    "}\n",
    "\n",
    "word2vec = KeyedVectors.load(file_paths['word2vec'],  mmap='r')\n",
    "glove = KeyedVectors.load(file_paths['glove'],  mmap='r')"
   ]
  },
  {
   "cell_type": "code",
   "execution_count": 31,
   "metadata": {},
   "outputs": [],
   "source": [
    "import dask.dataframe as dd\n",
    "import dask.bag as db\n",
    "docs = dd.read_parquet(\"../output.pq/\")\n",
    "texts = docs['News_Tokens'].compute()\n",
    "bag = db.from_sequence(texts)\n",
    "list_news = bag.map(lambda sent: ' '.join(sent)).compute()\n",
    "ids = docs['News_Id'].compute()"
   ]
  },
  {
   "cell_type": "code",
   "execution_count": 32,
   "metadata": {},
   "outputs": [],
   "source": [
    "import numpy as np\n",
    "\n",
    "def get_doc_embedding(tokens, model):\n",
    "    vectors = [model[word] for word in tokens if word in model]\n",
    "    if vectors:\n",
    "        return np.mean(vectors, axis=0)\n",
    "    else:\n",
    "        return np.zeros(model.vector_size)"
   ]
  },
  {
   "cell_type": "code",
   "execution_count": 34,
   "metadata": {},
   "outputs": [],
   "source": [
    "glove_embeddings = {}\n",
    "word2vec_embeddings = {}\n",
    "\n",
    "for (news, id) in zip(list_news, ids):\n",
    "  word2vec_embeddings[id] = get_doc_embedding(news, word2vec)\n",
    "  glove_embeddings[id] = get_doc_embedding(news, glove)"
   ]
  },
  {
   "cell_type": "code",
   "execution_count": 38,
   "metadata": {},
   "outputs": [],
   "source": [
    "import numpy as np\n",
    "import json\n",
    "import faiss\n",
    "\n",
    "folder = 'news-embeddings'\n",
    "# Словари → списки → массивы и id-шники\n",
    "def save_embeddings_dict(emb_dict, prefix):\n",
    "    ids = list(emb_dict.keys())\n",
    "    vectors = np.array([emb_dict[i] for i in ids], dtype='float32')\n",
    "    index = faiss.IndexFlatL2(vectors.shape[1])\n",
    "    index.add(vectors)\n",
    "    np.save(f\"{folder}/{prefix}_vectors.npy\", vectors)\n",
    "    faiss.write_index(index, f\"{folder}/{prefix}.index\")\n",
    "\n",
    "    with open(f\"{folder}/{prefix}_ids.json\", \"w\", encoding=\"utf-8\") as f:\n",
    "        json.dump(ids, f)\n",
    "\n",
    "save_embeddings_dict(glove_embeddings, \"glove\")\n",
    "save_embeddings_dict(word2vec_embeddings, \"word2vec\")"
   ]
  },
  {
   "cell_type": "code",
   "execution_count": null,
   "metadata": {},
   "outputs": [],
   "source": []
  }
 ],
 "metadata": {
  "kernelspec": {
   "display_name": ".venv",
   "language": "python",
   "name": "python3"
  },
  "language_info": {
   "codemirror_mode": {
    "name": "ipython",
    "version": 3
   },
   "file_extension": ".py",
   "mimetype": "text/x-python",
   "name": "python",
   "nbconvert_exporter": "python",
   "pygments_lexer": "ipython3",
   "version": "3.12.6"
  }
 },
 "nbformat": 4,
 "nbformat_minor": 2
}
