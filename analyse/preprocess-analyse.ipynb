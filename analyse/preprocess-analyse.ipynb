{
 "cells": [
  {
   "cell_type": "code",
   "execution_count": 17,
   "metadata": {},
   "outputs": [],
   "source": [
    "import dask.dataframe as dd\n",
    "import dask.bag as db\n",
    "docs = dd.read_parquet(\"../output.pq/\")\n",
    "texts = docs['News_Tokens'].compute()\n",
    "bag = db.from_sequence(texts)\n",
    "sentences = bag.flatten()\n",
    "words = sentences.map(lambda x: x.split()).flatten()\n",
    "unique_words = words.distinct()"
   ]
  },
  {
   "cell_type": "code",
   "execution_count": 18,
   "metadata": {},
   "outputs": [],
   "source": [
    "unique_words = unique_words.compute()\n",
    "words = words.compute()\n",
    "sentences = sentences.compute()"
   ]
  },
  {
   "cell_type": "code",
   "execution_count": 32,
   "metadata": {},
   "outputs": [],
   "source": [
    "len_tokens_per_text = bag.map(lambda news: [len(sent.split()) for sent in news]).flatten()\n",
    "min_words_per_text = len_tokens_per_text.min().compute()\n",
    "max_words_per_text = len_tokens_per_text.max().compute()"
   ]
  },
  {
   "cell_type": "code",
   "execution_count": 33,
   "metadata": {},
   "outputs": [
    {
     "name": "stdout",
     "output_type": "stream",
     "text": [
      "[11, 9]\n"
     ]
    }
   ],
   "source": [
    "print(len_tokens_per_text.compute()[:2])"
   ]
  },
  {
   "cell_type": "code",
   "execution_count": 34,
   "metadata": {},
   "outputs": [
    {
     "name": "stdout",
     "output_type": "stream",
     "text": [
      "Количество новостей = 31077\n",
      "Общее количество предложений = 423175\n",
      "Среднее количество предложений на новость = 13.61698362132767\n",
      "Общее количество токенов = 4293732\n",
      "Среднее количество токенов на новость = 138.16430157351095\n",
      "Максимальное количество токенов на новость = 166\n",
      "Минимальное количество токенов на новость = 1\n",
      "Общее количество уникальных токенов = 45204\n"
     ]
    }
   ],
   "source": [
    "print(f\"Количество новостей = {len(texts)}\")\n",
    "print(f\"Общее количество предложений = {len(sentences)}\")\n",
    "print(f\"Среднее количество предложений на новость = {len(sentences) / len(texts)}\")\n",
    "print(f\"Общее количество токенов = {len(words)}\")\n",
    "print(f\"Среднее количество токенов на новость = {len(words) / len(texts)}\")\n",
    "print(f\"Максимальное количество токенов на новость = {max_words_per_text}\")\n",
    "print(f\"Минимальное количество токенов на новость = {min_words_per_text}\")\n",
    "print(f\"Общее количество уникальных токенов = {len(unique_words)}\")"
   ]
  }
 ],
 "metadata": {
  "kernelspec": {
   "display_name": ".venv",
   "language": "python",
   "name": "python3"
  },
  "language_info": {
   "codemirror_mode": {
    "name": "ipython",
    "version": 3
   },
   "file_extension": ".py",
   "mimetype": "text/x-python",
   "name": "python",
   "nbconvert_exporter": "python",
   "pygments_lexer": "ipython3",
   "version": "3.12.6"
  }
 },
 "nbformat": 4,
 "nbformat_minor": 2
}
