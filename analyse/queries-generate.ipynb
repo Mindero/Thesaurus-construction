{
 "cells": [
  {
   "cell_type": "code",
   "execution_count": null,
   "id": "64467d2d",
   "metadata": {},
   "outputs": [],
   "source": [
    "import dask.dataframe as dd\n",
    "import dask.bag as db\n",
    "docs = dd.read_parquet(\"output.pq/\", columns=['News_Id', 'News_Title', 'News_Text'])"
   ]
  },
  {
   "cell_type": "code",
   "execution_count": null,
   "id": "eef98e88",
   "metadata": {},
   "outputs": [],
   "source": [
    "docs['News_Query'] = docs.apply(lambda row: [row['News_Title'], row['News_Text']], axis=1, meta=('News_Query', 'object'))"
   ]
  },
  {
   "cell_type": "code",
   "execution_count": null,
   "id": "ac1255a8",
   "metadata": {},
   "outputs": [],
   "source": [
    "import pyarrow as pa\n",
    "schema = {\n",
    "        \"News_Id\": pa.int32(),\n",
    "        \"News_Text\": pa.string(),\n",
    "        \"News_Title\": pa.string(),\n",
    "        \"News_Query\": pa.list_(pa.string())\n",
    "    }\n",
    "docs.to_parquet(\"query.pq\", schema = schema)"
   ]
  },
  {
   "cell_type": "markdown",
   "id": "2e926a6e",
   "metadata": {},
   "source": [
    "# Добавление запросов из LLM"
   ]
  },
  {
   "cell_type": "code",
   "execution_count": null,
   "id": "de11ffd8",
   "metadata": {},
   "outputs": [],
   "source": [
    "from transformers import pipeline\n",
    "\n",
    "chatbot = pipeline(\"text-generation\", model=\"microsoft/Phi-4-mini-instruct\", max_new_tokens=256)"
   ]
  },
  {
   "cell_type": "code",
   "execution_count": null,
   "id": "8fa53801",
   "metadata": {},
   "outputs": [],
   "source": [
    "import re\n",
    "\n",
    "def parse_queries(llm_q: str) -> list[str]:\n",
    "    # Разбиваем по строкам\n",
    "    lines = llm_q.strip().split('\\n')\n",
    "    queries = []\n",
    "    for line in lines:\n",
    "        # Убираем номер и точку в начале строки, например \"1. \"\n",
    "        query = re.sub(r'^\\s*\\d+\\.\\s*', '', line)\n",
    "        queries.append(query.strip())\n",
    "    return queries\n",
    "\n",
    "promt_template = lambda news: f\"\"\"\n",
    "        Вот текст новости:\\n{news}\"\"\"\n",
    "\n",
    "def generate_query(text: str) -> list[str]:\n",
    "    messages = [\n",
    "        {\"role\": \"system\", \"content\": \"\"\"Тебе дают текст новости. \n",
    "         Сгенерируй 5 реалистичных поисковых запросов, которые могли бы ввести пользователи в поисковике, чтобы найти эту новость. \n",
    "         Учитывай, что пользователи часто не знают точных формулировок, могут использовать ключевые слова, имена, места, приблизительные описания и синонимы. \n",
    "         Запросы должны быть короткими (3-7 слов). Формулируй запросы разнообразно и естественно, как это делают реальные пользователи.\"\"\"},\n",
    "        {\"role\": \"user\", \"content\": promt_template(text)}\n",
    "    ]\n",
    "    llm_q = chatbot(messages)[0]['generated_text'][2]['content']\n",
    "    return parse_queries(llm_q)"
   ]
  },
  {
   "cell_type": "code",
   "execution_count": null,
   "id": "41a27694",
   "metadata": {},
   "outputs": [],
   "source": [
    "sample_df = docs.sample(frac=0.0001, random_state=42)\n",
    "# sample_df = docs.loc[0].compute()"
   ]
  },
  {
   "cell_type": "code",
   "execution_count": null,
   "id": "9d952bd1",
   "metadata": {},
   "outputs": [],
   "source": [
    "sample_df['News_Query'] = sample_df['News_Text'].map(generate_query,  meta=(\"News_Tokens\", object)).compute()\n",
    "print(sample_df.head())\n"
   ]
  },
  {
   "cell_type": "code",
   "execution_count": null,
   "id": "e2d9b6ed",
   "metadata": {},
   "outputs": [],
   "source": [
    "print(sample_df['News_Query'])"
   ]
  },
  {
   "cell_type": "code",
   "execution_count": null,
   "id": "9027b3c0",
   "metadata": {},
   "outputs": [],
   "source": [
    "import pyarrow as pa\n",
    "schema = {\n",
    "        \"News_Id\": pa.int64(),\n",
    "        \"News_Text\": pa.string(),\n",
    "        \"News_Title\": pa.string(),\n",
    "        \"News_Query\": pa.string()\n",
    "    }\n",
    "sample_df.to_csv('llm-query.pq')"
   ]
  }
 ],
 "metadata": {
  "kernelspec": {
   "display_name": "Python 3",
   "language": "python",
   "name": "python3"
  },
  "language_info": {
   "codemirror_mode": {
    "name": "ipython",
    "version": 3
   },
   "file_extension": ".py",
   "mimetype": "text/x-python",
   "name": "python",
   "nbconvert_exporter": "python",
   "pygments_lexer": "ipython3",
   "version": "3.12.3"
  }
 },
 "nbformat": 4,
 "nbformat_minor": 5
}
