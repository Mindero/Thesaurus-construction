{
 "cells": [
  {
   "cell_type": "code",
   "execution_count": 27,
   "metadata": {},
   "outputs": [],
   "source": [
    "import pandas as pd\n",
    "import os\n",
    "\n",
    "# Пути к файлам и соответствующие названия колонок\n",
    "file_paths = {\n",
    "    # 'bert': '/bert/sim-words5-bert.csv',\n",
    "    'glove': '/glove_python/sim-words_sent_5_glove.csv',\n",
    "    'word2vec': '/word2vec/similar_words_sent_5.csv'\n",
    "}\n",
    "\n",
    "# Создаем пустой DataFrame с колонкой 'word'\n",
    "data = pd.DataFrame(columns=['word'])\n",
    "\n",
    "# Обрабатываем каждый файл\n",
    "for model_name, path in file_paths.items():\n",
    "    # Читаем CSV-файл\n",
    "    full_path = \"..\" + path\n",
    "    df = pd.read_csv(full_path)\n",
    "    \n",
    "    # Переименовываем колонку Most_Similar_Word в название модели\n",
    "    df = df.rename(columns={'Most_Similar_Word': model_name})\n",
    "    \n",
    "    # Если это первый файл, используем его слова как основу\n",
    "    if data.empty:\n",
    "        data['word'] = df['Word']\n",
    "    \n",
    "    # Добавляем данные в основной DataFrame\n",
    "    data[model_name] = df[model_name]"
   ]
  },
  {
   "cell_type": "code",
   "execution_count": 28,
   "metadata": {},
   "outputs": [],
   "source": [
    "import ast\n",
    "# Функция для проверки, является ли значение пустым списком или NaN\n",
    "def is_valid_similar_words(value):\n",
    "    if pd.isna(value):  # проверяем NaN\n",
    "        return False\n",
    "    if isinstance(value, str):  # если данные хранятся как строки (например, \"[('слово', 0.5), ...]\")\n",
    "        try:\n",
    "            lst = ast.literal_eval(value)  # преобразуем строку в список\n",
    "            return len(lst) > 0  # True, если список не пустой\n",
    "        except (ValueError, SyntaxError):\n",
    "            return False\n",
    "    elif isinstance(value, list):  # если данные уже в формате списка\n",
    "        return len(value) > 0\n",
    "    else:\n",
    "        return False  # на случай других форматов\n",
    "\n",
    "# Применяем фильтрацию: оставляем строки, где ВСЕ столбцы с похожими словами не пусты\n",
    "filtered_data = data[\n",
    "    data['glove'].apply(is_valid_similar_words) &\n",
    "    data['word2vec'].apply(is_valid_similar_words)\n",
    "]"
   ]
  },
  {
   "cell_type": "code",
   "execution_count": 29,
   "metadata": {},
   "outputs": [
    {
     "name": "stderr",
     "output_type": "stream",
     "text": [
      "C:\\Users\\vadim\\AppData\\Local\\Temp\\ipykernel_6480\\707709826.py:16: SettingWithCopyWarning: \n",
      "A value is trying to be set on a copy of a slice from a DataFrame.\n",
      "Try using .loc[row_indexer,col_indexer] = value instead\n",
      "\n",
      "See the caveats in the documentation: https://pandas.pydata.org/pandas-docs/stable/user_guide/indexing.html#returning-a-view-versus-a-copy\n",
      "  filtered_data['glove'] = filtered_data['glove'].apply(round_similar_words)\n",
      "C:\\Users\\vadim\\AppData\\Local\\Temp\\ipykernel_6480\\707709826.py:17: SettingWithCopyWarning: \n",
      "A value is trying to be set on a copy of a slice from a DataFrame.\n",
      "Try using .loc[row_indexer,col_indexer] = value instead\n",
      "\n",
      "See the caveats in the documentation: https://pandas.pydata.org/pandas-docs/stable/user_guide/indexing.html#returning-a-view-versus-a-copy\n",
      "  filtered_data['word2vec'] = filtered_data['word2vec'].apply(round_similar_words)\n"
     ]
    }
   ],
   "source": [
    "def round_similar_words(value):\n",
    "    if pd.isna(value):\n",
    "        return value\n",
    "    if isinstance(value, str):\n",
    "        try:\n",
    "            lst = ast.literal_eval(value)\n",
    "            if isinstance(lst, list):\n",
    "                rounded = [(word, round(score, 2)) for word, score in lst]\n",
    "                return str(rounded)\n",
    "        except (ValueError, SyntaxError):\n",
    "            return value\n",
    "    elif isinstance(value, list):\n",
    "        return [(word, round(score, 2)) for word, score in value]\n",
    "    return value\n",
    "filtered_data['glove'] = filtered_data['glove'].apply(round_similar_words)\n",
    "filtered_data['word2vec'] = filtered_data['word2vec'].apply(round_similar_words)"
   ]
  },
  {
   "cell_type": "code",
   "execution_count": 33,
   "metadata": {},
   "outputs": [],
   "source": [
    "n = 10  # кол-во случайных строк\n",
    "\n",
    "random_sample = filtered_data.sample(n=n)\n",
    "\n",
    "# Сохраняем в новый CSV-файл\n",
    "output_file = 'random_sample_similar_words.csv'\n",
    "random_sample.to_csv(output_file, index=False, encoding='utf-8')"
   ]
  },
  {
   "cell_type": "code",
   "execution_count": 31,
   "metadata": {},
   "outputs": [
    {
     "name": "stdout",
     "output_type": "stream",
     "text": [
      "            word                                              glove  \\\n",
      "0           баян                              [('аккордеон', 0.84)]   \n",
      "1       токарный                                 [('станок', 0.74)]   \n",
      "2   платоновский        [('гуткинский', 0.72), ('аскинский', 0.71)]   \n",
      "3      аккуратно                              [('сложённый', 0.77)]   \n",
      "4        утолить                                 [('печаль', 0.88)]   \n",
      "..           ...                                                ...   \n",
      "95      кристалл                               [('фотонный', 0.81)]   \n",
      "96         ясный                           [('безветренный', 0.74)]   \n",
      "97        обидно  [('<unk>', 0.82), ('гепатит', 0.77), ('тулярем...   \n",
      "98        слалом                  [('каяк', 0.82), ('<unk>', 0.72)]   \n",
      "99      бодрящий        [('ингаляция', 0.72), ('ресурсцентр', 0.7)]   \n",
      "\n",
      "                                             word2vec  \n",
      "0   [('флейта', 0.89), ('балалайка', 0.88), ('акко...  \n",
      "1   [('станок', 0.86), ('чпу', 0.84), ('прокладка'...  \n",
      "2   [('фединской', 0.87), ('кирюшкинский', 0.87), ...  \n",
      "3   [('кусок', 0.84), ('перевязать', 0.84), ('фоль...  \n",
      "4   [('пресвятой', 0.91), ('архангел', 0.9), ('бер...  \n",
      "..                                                ...  \n",
      "95  [('фотонный', 0.95), ('полупроводниковый', 0.9...  \n",
      "96                                    [('пыль', 0.8)]  \n",
      "97  [('снитч', 0.91), ('ловец', 0.89), ('чирлидер'...  \n",
      "98  [('каяк', 0.91), ('тхэквондо', 0.89), ('выплыв...  \n",
      "99  [('сани', 0.88), ('навесный', 0.88), ('перила'...  \n",
      "\n",
      "[100 rows x 3 columns]\n"
     ]
    }
   ],
   "source": [
    "import pandas as pd\n",
    "docs = pd.read_csv(\"random_sample_similar_words.csv\")\n",
    "print(docs)"
   ]
  }
 ],
 "metadata": {
  "kernelspec": {
   "display_name": "Python 3",
   "language": "python",
   "name": "python3"
  },
  "language_info": {
   "codemirror_mode": {
    "name": "ipython",
    "version": 3
   },
   "file_extension": ".py",
   "mimetype": "text/x-python",
   "name": "python",
   "nbconvert_exporter": "python",
   "pygments_lexer": "ipython3",
   "version": "3.12.6"
  }
 },
 "nbformat": 4,
 "nbformat_minor": 2
}
