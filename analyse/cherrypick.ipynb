{
 "cells": [
  {
   "cell_type": "code",
   "execution_count": 1,
   "metadata": {},
   "outputs": [],
   "source": [
    "import pandas as pd\n",
    "import os\n",
    "\n",
    "# Пути к файлам и соответствующие названия колонок\n",
    "file_paths = {\n",
    "    # 'bert': '/bert/sim-words5-bert.csv',\n",
    "    'glove': '/glove_python/sim-words_sent_5_glove.csv',\n",
    "    'word2vec': '/word2vec/similar_words_sent_5.csv'\n",
    "}\n",
    "\n",
    "# Создаем пустой DataFrame с колонкой 'word'\n",
    "data = pd.DataFrame(columns=['word'])\n",
    "\n",
    "# Обрабатываем каждый файл\n",
    "for model_name, path in file_paths.items():\n",
    "    # Читаем CSV-файл\n",
    "    full_path = \"..\" + path\n",
    "    df = pd.read_csv(full_path)\n",
    "    \n",
    "    # Переименовываем колонку Most_Similar_Word в название модели\n",
    "    df = df.rename(columns={'Most_Similar_Word': model_name})\n",
    "    \n",
    "    # Если это первый файл, используем его слова как основу\n",
    "    if data.empty:\n",
    "        data['word'] = df['Word']\n",
    "    \n",
    "    # Добавляем данные в основной DataFrame\n",
    "    data[model_name] = df[model_name]"
   ]
  },
  {
   "cell_type": "code",
   "execution_count": 3,
   "metadata": {},
   "outputs": [],
   "source": [
    "import ast\n",
    "# Функция для проверки, является ли значение пустым списком или NaN\n",
    "def is_valid_similar_words(value):\n",
    "    if pd.isna(value):  # проверяем NaN\n",
    "        return False\n",
    "    if isinstance(value, str):  # если данные хранятся как строки (например, \"[('слово', 0.5), ...]\")\n",
    "        try:\n",
    "            lst = ast.literal_eval(value)  # преобразуем строку в список\n",
    "            return len(lst) > 0  # True, если список не пустой\n",
    "        except (ValueError, SyntaxError):\n",
    "            return False\n",
    "    elif isinstance(value, list):  # если данные уже в формате списка\n",
    "        return len(value) > 0\n",
    "    else:\n",
    "        return False  # на случай других форматов\n",
    "\n",
    "# Применяем фильтрацию: оставляем строки, где ВСЕ столбцы с похожими словами не пусты\n",
    "filtered_data = data[\n",
    "    data['glove'].apply(is_valid_similar_words) &\n",
    "    data['word2vec'].apply(is_valid_similar_words)\n",
    "]"
   ]
  },
  {
   "cell_type": "code",
   "execution_count": 5,
   "metadata": {},
   "outputs": [],
   "source": [
    "n = 25  # кол-во случайных строк\n",
    "\n",
    "random_sample = filtered_data.sample(n=n, random_state=42)  # random_state для воспроизводимости\n",
    "\n",
    "# Сохраняем в новый CSV-файл\n",
    "output_file = 'random_sample_similar_words.csv'\n",
    "random_sample.to_csv(output_file, index=False, encoding='utf-8')"
   ]
  },
  {
   "cell_type": "code",
   "execution_count": null,
   "metadata": {},
   "outputs": [
    {
     "name": "stdout",
     "output_type": "stream",
     "text": [
      "             word                                              glove  \\\n",
      "0        недорого  [('развлекаться', 0.7729333639144897), ('<unk>...   \n",
      "1           голод                    [('холод', 0.7239494919776917)]   \n",
      "2      орфография                [('пунктуация', 0.861853301525116)]   \n",
      "3  внимательность        [('сосредоточенность', 0.7358331680297852)]   \n",
      "4       обсценный  [('нецензурный', 0.7586269974708557), ('лексик...   \n",
      "5         трещина                   [('ворона', 0.7095763087272644)]   \n",
      "6          кадмий                  [('селенид', 0.8604143857955933)]   \n",
      "7             омс                    [('полис', 0.7021245956420898)]   \n",
      "8         автомат               [('калашников', 0.7369362711906433)]   \n",
      "9           жажда                  [('утолять', 0.8408418893814087)]   \n",
      "\n",
      "                                            word2vec  \n",
      "0  [('инк', 0.856656551361084), ('прожект', 0.855...  \n",
      "1  [('фашист', 0.8560139536857605), ('холод', 0.8...  \n",
      "2               [('пунктуация', 0.7165657877922058)]  \n",
      "3  [('быстрота', 0.8376576900482178), ('коммуника...  \n",
      "4  [('жаргон', 0.8033391833305359), ('фразеологич...  \n",
      "5  [('термометр', 0.898944616317749), ('макароны'...  \n",
      "6  [('селенид', 0.9392459392547607), ('силанизиро...  \n",
      "7  [('полис', 0.9055739045143127), ('снилс', 0.85...  \n",
      "8  [('калашников', 0.753860592842102), ('разборка...  \n",
      "9  [('сдерживать', 0.7735592126846313), ('запах',...  \n"
     ]
    }
   ],
   "source": [
    "import pandas as pd\n",
    "docs = pd.read_csv(\"random_sample_similar_words.csv\")\n",
    "print(docs)"
   ]
  }
 ],
 "metadata": {
  "kernelspec": {
   "display_name": "Python 3",
   "language": "python",
   "name": "python3"
  },
  "language_info": {
   "codemirror_mode": {
    "name": "ipython",
    "version": 3
   },
   "file_extension": ".py",
   "mimetype": "text/x-python",
   "name": "python",
   "nbconvert_exporter": "python",
   "pygments_lexer": "ipython3",
   "version": "3.12.6"
  }
 },
 "nbformat": 4,
 "nbformat_minor": 2
}
