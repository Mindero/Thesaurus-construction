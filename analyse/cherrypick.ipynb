{
 "cells": [
  {
   "cell_type": "code",
   "execution_count": null,
   "metadata": {},
   "outputs": [],
   "source": [
    "import pandas as pd\n",
    "import os\n",
    "\n",
    "# Пути к файлам и соответствующие названия колонок\n",
    "file_paths = {\n",
    "    'bert': '/bert/sim-words5-bert.csv',\n",
    "    'glove': '/glove_python/sim-words10-glove.csv',\n",
    "    'pmi': '/pmi/similar_words_pmi.csv',\n",
    "    'word2vec': '/word2vec/similar_words10.csv'\n",
    "}\n",
    "\n",
    "# Создаем пустой DataFrame с колонкой 'word'\n",
    "data = pd.DataFrame(columns=['word'])\n",
    "\n",
    "# Обрабатываем каждый файл\n",
    "for model_name, path in file_paths.items():\n",
    "    # Читаем CSV-файл\n",
    "    full_path = \"..\" + path\n",
    "    df = pd.read_csv(full_path)\n",
    "    \n",
    "    # Переименовываем колонку Most_Similar_Word в название модели\n",
    "    df = df.rename(columns={'Most_Similar_Word': model_name})\n",
    "    \n",
    "    # Если это первый файл, используем его слова как основу\n",
    "    if data.empty:\n",
    "        data['word'] = df['Word']\n",
    "    \n",
    "    # Добавляем данные в основной DataFrame\n",
    "    data[model_name] = df[model_name]"
   ]
  },
  {
   "cell_type": "code",
   "execution_count": null,
   "metadata": {},
   "outputs": [
    {
     "name": "stdout",
     "output_type": "stream",
     "text": [
      "Исходное количество строк: 71796\n",
      "Отфильтрованное количество строк: 17058\n",
      "           word                                               bert  \\\n",
      "0           маи  [('раи', 0.84766555), ('рами', 0.8392539), ('л...   \n",
      "1    состояться  [('завершиться', 0.86279786), ('начаться', 0.8...   \n",
      "2  общенародныи  [('всенародныи', 0.9310285), ('чужеродныи', 0....   \n",
      "4   бессмертныи  [('ратныи', 0.88773453), ('смертныи', 0.881054...   \n",
      "5          полк                            [('полка', 0.82291174)]   \n",
      "\n",
      "                                               glove  \\\n",
      "0  [('февраль', 0.9127440452575684), ('ноябрь', 0...   \n",
      "1  [('пройти', 0.9210653901100159), ('октябрь', 0...   \n",
      "2  [('организатор', 0.6860509514808655), ('органи...   \n",
      "4  [('бессмертный', 0.9052135944366455), ('шестви...   \n",
      "5  [('участие', 0.9297742247581482), ('принимать'...   \n",
      "\n",
      "                                                 pmi  \\\n",
      "0                     [('полк', 0.8976994641215542)]   \n",
      "1              [('бессмертный', 0.8976994641215542)]   \n",
      "2  [('многоконфессиональность', 0.8396368295991671)]   \n",
      "4  [('перебор', 0.8396741208622902), ('плясовой',...   \n",
      "5                 [('труженик', 0.8257606913081289)]   \n",
      "\n",
      "                                            word2vec  \n",
      "0  [('ноябрь', 0.9007797241210938), ('апрель', 0....  \n",
      "1  [('пройти', 0.9240328669548035), ('проходить',...  \n",
      "2  [('магрибинский', 0.7145583033561707), ('автоб...  \n",
      "4  [('полк', 0.951771080493927), ('забытый', 0.73...  \n",
      "5  [('бессмертный', 0.9517711400985718), ('георги...  \n"
     ]
    }
   ],
   "source": [
    "import ast\n",
    "# Функция для проверки, является ли значение пустым списком или NaN\n",
    "def is_valid_similar_words(value):\n",
    "    if pd.isna(value):  # проверяем NaN\n",
    "        return False\n",
    "    if isinstance(value, str):  # если данные хранятся как строки (например, \"[('слово', 0.5), ...]\")\n",
    "        try:\n",
    "            lst = ast.literal_eval(value)  # преобразуем строку в список\n",
    "            return len(lst) > 0  # True, если список не пустой\n",
    "        except (ValueError, SyntaxError):\n",
    "            return False\n",
    "    elif isinstance(value, list):  # если данные уже в формате списка\n",
    "        return len(value) > 0\n",
    "    else:\n",
    "        return False  # на случай других форматов\n",
    "\n",
    "# Применяем фильтрацию: оставляем строки, где ВСЕ столбцы с похожими словами не пусты\n",
    "filtered_data = data[\n",
    "    data['bert'].apply(is_valid_similar_words) &\n",
    "    data['glove'].apply(is_valid_similar_words) &\n",
    "    data['pmi'].apply(is_valid_similar_words) &\n",
    "    data['word2vec'].apply(is_valid_similar_words)\n",
    "]"
   ]
  },
  {
   "cell_type": "code",
   "execution_count": 9,
   "metadata": {},
   "outputs": [],
   "source": [
    "n = 100  # кол-во лучайных строк\n",
    "\n",
    "random_sample = filtered_data.sample(n=n, random_state=42)  # random_state для воспроизводимости\n",
    "\n",
    "# Сохраняем в новый CSV-файл\n",
    "output_file = 'random_sample_similar_words.csv'\n",
    "random_sample.to_csv(output_file, index=False, encoding='utf-8')"
   ]
  }
 ],
 "metadata": {
  "kernelspec": {
   "display_name": "Python 3",
   "language": "python",
   "name": "python3"
  },
  "language_info": {
   "codemirror_mode": {
    "name": "ipython",
    "version": 3
   },
   "file_extension": ".py",
   "mimetype": "text/x-python",
   "name": "python",
   "nbconvert_exporter": "python",
   "pygments_lexer": "ipython3",
   "version": "3.12.6"
  }
 },
 "nbformat": 4,
 "nbformat_minor": 2
}
