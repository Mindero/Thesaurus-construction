{
 "cells": [
  {
   "cell_type": "code",
   "execution_count": 12,
   "metadata": {},
   "outputs": [
    {
     "name": "stdout",
     "output_type": "stream",
     "text": [
      "%pylab is deprecated, use %matplotlib inline and import the required libraries.\n",
      "Populating the interactive namespace from numpy and matplotlib\n"
     ]
    }
   ],
   "source": [
    "%pylab inline\n",
    "import pandas as pd\n",
    "import sklearn as skl\n",
    "import scipy\n",
    "import math\n",
    "import sys\n",
    "from collections import defaultdict\n",
    "from gensim import models\n",
    "\n",
    "model = models.KeyedVectors.load_word2vec_format('vectors.txt', binary=False, no_header=True)"
   ]
  },
  {
   "cell_type": "code",
   "execution_count": 13,
   "metadata": {},
   "outputs": [],
   "source": [
    "document = pd.read_excel(\"../News_SGU_31077_Processed_1.xlsx\")\n",
    "texts = document[\"News_Tokens\"].apply(lambda x: x.split(\" \")).explode().unique()"
   ]
  },
  {
   "cell_type": "code",
   "execution_count": 14,
   "metadata": {},
   "outputs": [
    {
     "name": "stdout",
     "output_type": "stream",
     "text": [
      "Пропустили 45130 слов\n"
     ]
    }
   ],
   "source": [
    "results = []\n",
    "skipped=0\n",
    "for word in texts:\n",
    "    try:\n",
    "        # Получаем 10 ближайших слов\n",
    "        similar_words = model.most_similar(word, topn=10)\n",
    "        results.append([word, similar_words])\n",
    "    except KeyError:\n",
    "        # Если слово не в модели, пропускаем его\n",
    "        skipped += 1\n",
    "        continue\n",
    "\n",
    "df_results = pd.DataFrame(results, columns=[\"Word\", \"Most_Similar_Word\"])\n",
    "print(f\"Пропустили {skipped} слов\")\n",
    "df_results.to_csv(\"sim-words10-glove.csv\", index=False)"
   ]
  }
 ],
 "metadata": {
  "kernelspec": {
   "display_name": "base",
   "language": "python",
   "name": "python3"
  },
  "language_info": {
   "codemirror_mode": {
    "name": "ipython",
    "version": 3
   },
   "file_extension": ".py",
   "mimetype": "text/x-python",
   "name": "python",
   "nbconvert_exporter": "python",
   "pygments_lexer": "ipython3",
   "version": "3.12.7"
  }
 },
 "nbformat": 4,
 "nbformat_minor": 2
}
