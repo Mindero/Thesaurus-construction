{
 "cells": [
  {
   "cell_type": "code",
   "execution_count": 2,
   "id": "e656c1d2-d545-4539-964c-41c774c9e603",
   "metadata": {},
   "outputs": [
    {
     "name": "stdout",
     "output_type": "stream",
     "text": [
      "%pylab is deprecated, use %matplotlib inline and import the required libraries.\n",
      "Populating the interactive namespace from numpy and matplotlib\n"
     ]
    }
   ],
   "source": [
    "%pylab inline"
   ]
  },
  {
   "cell_type": "code",
   "execution_count": 4,
   "id": "9c360f61-27d3-4975-84c2-26cbcf837f56",
   "metadata": {},
   "outputs": [],
   "source": [
    "import pandas as pd\n",
    "import sklearn as skl\n",
    "import scipy\n",
    "import sys"
   ]
  },
  {
   "cell_type": "code",
   "execution_count": 6,
   "id": "af012b6f-530c-456b-a4a0-b6ccd2eae5b8",
   "metadata": {},
   "outputs": [],
   "source": [
    "document = pd.read_excel(\"News_SGU_31077_Processed_1.xlsx\")\n",
    "texts = document[\"News_Tokens\"].apply(lambda x: x.split(\" \"))\n"
   ]
  },
  {
   "cell_type": "code",
   "execution_count": 7,
   "id": "0b02bfb0-5c32-487b-b0cc-dc3bc2c14aa3",
   "metadata": {},
   "outputs": [
    {
     "name": "stdout",
     "output_type": "stream",
     "text": [
      "0        [май, состояться, общенародный, акция, бессмер...\n",
      "1        [председатель, государственный, дума, федераль...\n",
      "2        [заместитель, председатель, совет, безопасност...\n",
      "3        [уважаемый, ветеран, университет, коллега, сту...\n",
      "4        [саратовский, национальный, исследовательский,...\n",
      "                               ...                        \n",
      "31072    [международный, база, данные, обнародовать, ст...\n",
      "31073    [результат, научный, исследование, заведовать,...\n",
      "31074    [творческий, редакция, студенческий, издание, ...\n",
      "31075    [председатель, правительство, российский, феде...\n",
      "31076    [декабрь, год, диссертационный, совет, состоят...\n",
      "Name: News_Tokens, Length: 31077, dtype: object\n"
     ]
    }
   ],
   "source": [
    "print(texts)"
   ]
  },
  {
   "cell_type": "code",
   "execution_count": 8,
   "id": "01772732-f2fb-4e7c-aa59-c4424032ad37",
   "metadata": {},
   "outputs": [
    {
     "ename": "SyntaxError",
     "evalue": "incomplete input (709918953.py, line 5)",
     "output_type": "error",
     "traceback": [
      "  \u001b[36mCell\u001b[39m\u001b[36m \u001b[39m\u001b[32mIn[8]\u001b[39m\u001b[32m, line 5\u001b[39m\n\u001b[31m    \u001b[39m\u001b[31mfor i, word in enumerate(text):\u001b[39m\n                                   ^\n\u001b[31mSyntaxError\u001b[39m\u001b[31m:\u001b[39m incomplete input\n"
     ]
    }
   ],
   "source": [
    "co_occurence = dict()\n",
    "word_cnt = dict()\n",
    "window_size = 6\n",
    "for text in texts:\n",
    "    for i, word in enumerate(text):\n",
    "        word_cnt[word] += 1\n",
    "        for j in range(max(0, i - window_size), min(len(words), i + window_size + 1)):\n",
    "            if i != j:\n",
    "                co_occurence[(word, words[j])] += 1\n",
    "\n",
    "total_cnt = word_cnt.size()\n",
    "thesaurus = dict()\n",
    "for (word1, word2), cnt in co_occurence.items():\n",
    "    p_w1w2 = count / total_cnt\n",
    "    p_w1 = word_counts[w1] / total_cnt\n",
    "    p_w2 = word_counts[w2] / total_cnt\n",
    "    pmi = math.log2(p_w1w2 / (p_w1 * p_w2)) if p_w1w2 > 0 else -1"
   ]
  },
  {
   "cell_type": "code",
   "execution_count": null,
   "id": "d51862b0-a7b7-4e5b-9215-0bc7565b99b5",
   "metadata": {},
   "outputs": [],
   "source": []
  }
 ],
 "metadata": {
  "kernelspec": {
   "display_name": "Python 3 (ipykernel)",
   "language": "python",
   "name": "python3"
  },
  "language_info": {
   "codemirror_mode": {
    "name": "ipython",
    "version": 3
   },
   "file_extension": ".py",
   "mimetype": "text/x-python",
   "name": "python",
   "nbconvert_exporter": "python",
   "pygments_lexer": "ipython3",
   "version": "3.12.6"
  }
 },
 "nbformat": 4,
 "nbformat_minor": 5
}
