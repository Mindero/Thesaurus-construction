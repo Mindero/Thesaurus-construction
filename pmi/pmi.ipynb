{
 "cells": [
  {
   "cell_type": "code",
   "execution_count": 1,
   "id": "e656c1d2-d545-4539-964c-41c774c9e603",
   "metadata": {},
   "outputs": [
    {
     "name": "stdout",
     "output_type": "stream",
     "text": [
      "%pylab is deprecated, use %matplotlib inline and import the required libraries.\n",
      "Populating the interactive namespace from numpy and matplotlib\n"
     ]
    }
   ],
   "source": [
    "%pylab inline\n",
    "import pandas as pd\n",
    "import sklearn as skl\n",
    "import scipy\n",
    "import math\n",
    "import sys\n",
    "from collections import defaultdict\n",
    "document = pd.read_excel(\"../News_SGU_31077_Processed_1.xlsx\")\n",
    "texts = document[\"News_Tokens\"].apply(lambda x: x.split(\" \"))"
   ]
  },
  {
   "cell_type": "code",
   "execution_count": 4,
   "id": "0b02bfb0-5c32-487b-b0cc-dc3bc2c14aa3",
   "metadata": {},
   "outputs": [
    {
     "name": "stdout",
     "output_type": "stream",
     "text": [
      "0        [май, состояться, общенародный, акция, бессмер...\n",
      "1        [председатель, государственный, дума, федераль...\n",
      "2        [заместитель, председатель, совет, безопасност...\n",
      "3        [уважаемый, ветеран, университет, коллега, сту...\n",
      "4        [саратовский, национальный, исследовательский,...\n",
      "                               ...                        \n",
      "31072    [международный, база, данные, обнародовать, ст...\n",
      "31073    [результат, научный, исследование, заведовать,...\n",
      "31074    [творческий, редакция, студенческий, издание, ...\n",
      "31075    [председатель, правительство, российский, феде...\n",
      "31076    [декабрь, год, диссертационный, совет, состоят...\n",
      "Name: News_Tokens, Length: 31077, dtype: object\n"
     ]
    }
   ],
   "source": [
    "print(texts)"
   ]
  },
  {
   "cell_type": "code",
   "execution_count": 5,
   "id": "01772732-f2fb-4e7c-aa59-c4424032ad37",
   "metadata": {},
   "outputs": [],
   "source": [
    "co_occurence = defaultdict(int)\n",
    "word_cnt = defaultdict(int)\n",
    "window_size = 6\n",
    "for text in texts:\n",
    "    for i, word in enumerate(text):\n",
    "        word_cnt[word] += 1\n",
    "        for j in range(max(0, i - window_size), min(len(text), i + window_size + 1)):\n",
    "            if i != j:\n",
    "                co_occurence[(word, text[j])] += 1"
   ]
  },
  {
   "cell_type": "code",
   "execution_count": 6,
   "id": "802eb2f2",
   "metadata": {},
   "outputs": [
    {
     "name": "stdout",
     "output_type": "stream",
     "text": [
      "13625675\n"
     ]
    }
   ],
   "source": [
    "print(len(co_occurence))"
   ]
  },
  {
   "cell_type": "code",
   "execution_count": 7,
   "id": "d51862b0-a7b7-4e5b-9215-0bc7565b99b5",
   "metadata": {},
   "outputs": [],
   "source": [
    "total_cnt = len(word_cnt)\n",
    "thesaurus = defaultdict(list)\n",
    "for (word1, word2), cnt in co_occurence.items():\n",
    "    p_w1w2 = cnt / total_cnt\n",
    "    p_w1 = word_cnt[word1] / total_cnt\n",
    "    p_w2 = word_cnt[word2] / total_cnt\n",
    "    pmi = math.log2(p_w1w2 / (p_w1 * p_w2)) if p_w1w2 > 0 else -1\n",
    "    npmi = pmi / -math.log2(p_w1w2)\n",
    "    thesaurus[word1].append((word2, npmi))"
   ]
  },
  {
   "cell_type": "code",
   "execution_count": 8,
   "id": "99c38a08-8815-4271-a234-051134991456",
   "metadata": {},
   "outputs": [
    {
     "name": "stdout",
     "output_type": "stream",
     "text": [
      "71192\n"
     ]
    }
   ],
   "source": [
    "print(len(thesaurus))"
   ]
  },
  {
   "cell_type": "code",
   "execution_count": 10,
   "id": "68dc681e",
   "metadata": {},
   "outputs": [],
   "source": [
    "threshold = 0.8\n",
    "cnt = 0\n",
    "result = []\n",
    "for word in thesaurus:\n",
    "    cnt += 1\n",
    "    # print(thesaurus[word])\n",
    "    filter = [(w, pmi) for w, pmi in thesaurus[word] if pmi > threshold]\n",
    "    filter.sort(key=lambda x: -x[1])\n",
    "    if len(filter) > 0:\n",
    "        result.append([word, filter])\n",
    "    # print(result[word])\n",
    "    # if cnt > 5: break\n",
    "\n",
    "df_results = pd.DataFrame(result, columns=[\"Word\", \"Most_Similar_Word\"])\n",
    "\n",
    "df_results.to_csv(\"similar_words_pmi.csv\", index=False)"
   ]
  }
 ],
 "metadata": {
  "kernelspec": {
   "display_name": "base",
   "language": "python",
   "name": "python3"
  },
  "language_info": {
   "codemirror_mode": {
    "name": "ipython",
    "version": 3
   },
   "file_extension": ".py",
   "mimetype": "text/x-python",
   "name": "python",
   "nbconvert_exporter": "python",
   "pygments_lexer": "ipython3",
   "version": "3.12.7"
  }
 },
 "nbformat": 4,
 "nbformat_minor": 5
}
